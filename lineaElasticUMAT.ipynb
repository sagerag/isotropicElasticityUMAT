{
 "cells": [
  {
   "cell_type": "markdown",
   "id": "scenic-aspect",
   "metadata": {},
   "source": [
    "# Isotropic, isothermal linear elasticity UMAT Description"
   ]
  },
  {
   "cell_type": "markdown",
   "id": "actual-revelation",
   "metadata": {},
   "source": [
    "Good way to introduce myself to MarkDown too\n",
    "\n",
    ">\"Fancy has no place, but only in adorning the style.\" - Thomas Hobbes, \n",
    " \n",
    "[Google](google.com)\n",
    "\n",
    "$\\hat{Y} = \\hat{\\beta}_{O} $"
   ]
  },
  {
   "cell_type": "code",
   "execution_count": null,
   "id": "coordinate-genius",
   "metadata": {},
   "outputs": [],
   "source": []
  }
 ],
 "metadata": {
  "kernelspec": {
   "display_name": "Python 3",
   "language": "python",
   "name": "python3"
  },
  "language_info": {
   "codemirror_mode": {
    "name": "ipython",
    "version": 3
   },
   "file_extension": ".py",
   "mimetype": "text/x-python",
   "name": "python",
   "nbconvert_exporter": "python",
   "pygments_lexer": "ipython3",
   "version": "3.9.2"
  }
 },
 "nbformat": 4,
 "nbformat_minor": 5
}
