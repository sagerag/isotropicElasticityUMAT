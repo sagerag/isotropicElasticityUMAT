{
 "cells": [
  {
   "cell_type": "markdown",
   "id": "touched-karaoke",
   "metadata": {},
   "source": [
    "# Isotropic, isothermal linear elasticity UMAT Description"
   ]
  },
  {
   "cell_type": "markdown",
   "id": "divided-parameter",
   "metadata": {},
   "source": [
    "## Overview\n",
    "\n",
    "UMAT for isotropic elasticity that incorporates, axisymmetric, plane and 3D stress formulations.\n",
    "\n",
    "Isotropic elasticity formulation derived from Chapter 4, Introduction to Linear Elasticity, Gould, P. Axisymmetric and plane stress derived from EN2340 Computational Methods in Solid Mechanics, Allan Bower, Brown University. \n",
    "\n",
    "## Elastic Properties and Calculated Parameters\n",
    "\n",
    "In this case the material is defined by its given Young's Modulus, $E$ and Poisson's ratio, $\\nu$. The Young's modulus measures the tensile stiffness of a solid, this is achieved by quantifying the relationship between tensile stress $\\sigma$ and axial strain $\\varepsilon$ in the linear elastic region of a material and is given by the following formula;\n",
    "\n",
    "\\begin{equation}\n",
    "E = \\frac{\\sigma}{\\varepsilon}\n",
    "\\end{equation}\n",
    "\n",
    "Poisson's ratio is a measure of material deformation in directions perpendicular to the direction of loading, given by the negative of the ratio of transverse strains, $\\varepsilon_{trans}$ to axal strains, $\\varepsilon_{axial}$  as shown in the following formula; \n",
    "\n",
    "\\begin{equation}\n",
    "\\nu = - \\frac{\\varepsilon_{trans}}{\\varepsilon_{axial}}\n",
    "\\end{equation}\n",
    "\n"
   ]
  },
  {
   "cell_type": "code",
   "execution_count": null,
   "id": "exclusive-pencil",
   "metadata": {},
   "outputs": [],
   "source": []
  }
 ],
 "metadata": {
  "kernelspec": {
   "display_name": "Python 3",
   "language": "python",
   "name": "python3"
  },
  "language_info": {
   "codemirror_mode": {
    "name": "ipython",
    "version": 3
   },
   "file_extension": ".py",
   "mimetype": "text/x-python",
   "name": "python",
   "nbconvert_exporter": "python",
   "pygments_lexer": "ipython3",
   "version": "3.9.2"
  },
  "toc-showtags": false
 },
 "nbformat": 4,
 "nbformat_minor": 5
}
